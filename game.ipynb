{
 "cells": [
  {
   "cell_type": "markdown",
   "metadata": {},
   "source": [
    "# Игра \"Угадай число\"\n"
   ]
  },
  {
   "cell_type": "code",
   "execution_count": 3,
   "metadata": {},
   "outputs": [],
   "source": [
    "import game"
   ]
  },
  {
   "cell_type": "code",
   "execution_count": 9,
   "metadata": {},
   "outputs": [],
   "source": [
    "from game import score_game, random_predict\n"
   ]
  },
  {
   "cell_type": "markdown",
   "metadata": {},
   "source": [
    "## Угадываем рандомно"
   ]
  },
  {
   "cell_type": "code",
   "execution_count": 10,
   "metadata": {},
   "outputs": [
    {
     "name": "stdout",
     "output_type": "stream",
     "text": [
      "[38 13 73 10 76  6 80 65 17  2]\n",
      "38\n",
      "[67]\n",
      "13\n",
      "[67, 60]\n",
      "73\n",
      "[67, 60, 274]\n",
      "10\n",
      "[67, 60, 274, 155]\n",
      "76\n",
      "[67, 60, 274, 155, 158]\n",
      "6\n",
      "[67, 60, 274, 155, 158, 10]\n",
      "80\n",
      "[67, 60, 274, 155, 158, 10, 290]\n",
      "65\n",
      "[67, 60, 274, 155, 158, 10, 290, 12]\n",
      "17\n",
      "[67, 60, 274, 155, 158, 10, 290, 12, 102]\n",
      "2\n",
      "[67, 60, 274, 155, 158, 10, 290, 12, 102, 313]\n",
      "Ваш алгоритм угадывает число в среднем за: 144 попыток\n"
     ]
    },
    {
     "data": {
      "text/plain": [
       "144"
      ]
     },
     "execution_count": 10,
     "metadata": {},
     "output_type": "execute_result"
    }
   ],
   "source": [
    "score_game(random_predict)\n",
    "\n"
   ]
  }
 ],
 "metadata": {
  "kernelspec": {
   "display_name": "Python 3.9.10 64-bit",
   "language": "python",
   "name": "python3"
  },
  "language_info": {
   "codemirror_mode": {
    "name": "ipython",
    "version": 3
   },
   "file_extension": ".py",
   "mimetype": "text/x-python",
   "name": "python",
   "nbconvert_exporter": "python",
   "pygments_lexer": "ipython3",
   "version": "3.9.10"
  },
  "orig_nbformat": 4,
  "vscode": {
   "interpreter": {
    "hash": "7be64ce112daadfb1ce6a5385cad1e0ef9eac283e6cf26b967828bc83f531e84"
   }
  }
 },
 "nbformat": 4,
 "nbformat_minor": 2
}
